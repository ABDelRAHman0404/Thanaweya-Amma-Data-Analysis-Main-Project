{
 "cells": [
  {
   "cell_type": "code",
   "execution_count": 1,
   "id": "37ef7be8",
   "metadata": {},
   "outputs": [],
   "source": [
    "import pandas as pd"
   ]
  },
  {
   "cell_type": "markdown",
   "id": "470d8c35",
   "metadata": {},
   "source": [
    "## Reading 2022 and 2023 grades "
   ]
  },
  {
   "cell_type": "code",
   "execution_count": 2,
   "id": "335cdf06",
   "metadata": {},
   "outputs": [],
   "source": [
    "grades_2022 = pd.read_csv(r\"D:\\Data Analysis\\Uncleaned Data\\2022 mean grades.csv\")\n",
    "grades_2023 = pd.read_csv(r\"D:\\Data Analysis\\Uncleaned Data\\2023 mean grades.csv\")"
   ]
  },
  {
   "cell_type": "code",
   "execution_count": 3,
   "id": "e4b2c675",
   "metadata": {},
   "outputs": [
    {
     "data": {
      "text/html": [
       "<div>\n",
       "<style scoped>\n",
       "    .dataframe tbody tr th:only-of-type {\n",
       "        vertical-align: middle;\n",
       "    }\n",
       "\n",
       "    .dataframe tbody tr th {\n",
       "        vertical-align: top;\n",
       "    }\n",
       "\n",
       "    .dataframe thead th {\n",
       "        text-align: right;\n",
       "    }\n",
       "</style>\n",
       "<table border=\"1\" class=\"dataframe\">\n",
       "  <thead>\n",
       "    <tr style=\"text-align: right;\">\n",
       "      <th></th>\n",
       "      <th>city</th>\n",
       "      <th>أدبي</th>\n",
       "      <th>علمي رياضة</th>\n",
       "      <th>علمي علوم</th>\n",
       "      <th>total_mean</th>\n",
       "    </tr>\n",
       "  </thead>\n",
       "  <tbody>\n",
       "    <tr>\n",
       "      <th>0</th>\n",
       "      <td>اسوان</td>\n",
       "      <td>62.303105</td>\n",
       "      <td>58.881589</td>\n",
       "      <td>60.442605</td>\n",
       "      <td>60.542433</td>\n",
       "    </tr>\n",
       "    <tr>\n",
       "      <th>1</th>\n",
       "      <td>اسيوط</td>\n",
       "      <td>63.250897</td>\n",
       "      <td>58.385600</td>\n",
       "      <td>62.820907</td>\n",
       "      <td>61.485801</td>\n",
       "    </tr>\n",
       "    <tr>\n",
       "      <th>2</th>\n",
       "      <td>الإسماعيلية</td>\n",
       "      <td>64.120516</td>\n",
       "      <td>70.838397</td>\n",
       "      <td>67.708370</td>\n",
       "      <td>67.555761</td>\n",
       "    </tr>\n",
       "    <tr>\n",
       "      <th>3</th>\n",
       "      <td>الاسكندرية</td>\n",
       "      <td>65.216586</td>\n",
       "      <td>67.055965</td>\n",
       "      <td>63.589343</td>\n",
       "      <td>65.287298</td>\n",
       "    </tr>\n",
       "    <tr>\n",
       "      <th>4</th>\n",
       "      <td>الاقصر</td>\n",
       "      <td>61.304830</td>\n",
       "      <td>60.923508</td>\n",
       "      <td>59.459226</td>\n",
       "      <td>60.562522</td>\n",
       "    </tr>\n",
       "  </tbody>\n",
       "</table>\n",
       "</div>"
      ],
      "text/plain": [
       "          city       أدبي  علمي رياضة  علمي علوم  total_mean\n",
       "0        اسوان  62.303105   58.881589  60.442605   60.542433\n",
       "1        اسيوط  63.250897   58.385600  62.820907   61.485801\n",
       "2  الإسماعيلية  64.120516   70.838397  67.708370   67.555761\n",
       "3   الاسكندرية  65.216586   67.055965  63.589343   65.287298\n",
       "4       الاقصر  61.304830   60.923508  59.459226   60.562522"
      ]
     },
     "execution_count": 3,
     "metadata": {},
     "output_type": "execute_result"
    }
   ],
   "source": [
    "grades_2023.head()"
   ]
  },
  {
   "cell_type": "code",
   "execution_count": 4,
   "id": "6649bfa5",
   "metadata": {},
   "outputs": [
    {
     "data": {
      "text/html": [
       "<div>\n",
       "<style scoped>\n",
       "    .dataframe tbody tr th:only-of-type {\n",
       "        vertical-align: middle;\n",
       "    }\n",
       "\n",
       "    .dataframe tbody tr th {\n",
       "        vertical-align: top;\n",
       "    }\n",
       "\n",
       "    .dataframe thead th {\n",
       "        text-align: right;\n",
       "    }\n",
       "</style>\n",
       "<table border=\"1\" class=\"dataframe\">\n",
       "  <thead>\n",
       "    <tr style=\"text-align: right;\">\n",
       "      <th></th>\n",
       "      <th>city</th>\n",
       "      <th>أدبي</th>\n",
       "      <th>علمي رياضة</th>\n",
       "      <th>علمي علوم</th>\n",
       "      <th>total_mean</th>\n",
       "    </tr>\n",
       "  </thead>\n",
       "  <tbody>\n",
       "    <tr>\n",
       "      <th>0</th>\n",
       "      <td>اسوان</td>\n",
       "      <td>55.119761</td>\n",
       "      <td>57.949338</td>\n",
       "      <td>58.798358</td>\n",
       "      <td>57.289152</td>\n",
       "    </tr>\n",
       "    <tr>\n",
       "      <th>1</th>\n",
       "      <td>اسيوط</td>\n",
       "      <td>54.740793</td>\n",
       "      <td>57.703721</td>\n",
       "      <td>59.630377</td>\n",
       "      <td>57.358297</td>\n",
       "    </tr>\n",
       "    <tr>\n",
       "      <th>2</th>\n",
       "      <td>الإسماعيلية</td>\n",
       "      <td>62.245656</td>\n",
       "      <td>72.467673</td>\n",
       "      <td>67.650618</td>\n",
       "      <td>67.454649</td>\n",
       "    </tr>\n",
       "    <tr>\n",
       "      <th>3</th>\n",
       "      <td>الاسكندرية</td>\n",
       "      <td>60.984521</td>\n",
       "      <td>65.368450</td>\n",
       "      <td>63.949668</td>\n",
       "      <td>63.434213</td>\n",
       "    </tr>\n",
       "    <tr>\n",
       "      <th>4</th>\n",
       "      <td>الاقصر</td>\n",
       "      <td>55.385677</td>\n",
       "      <td>57.956045</td>\n",
       "      <td>58.980666</td>\n",
       "      <td>57.440796</td>\n",
       "    </tr>\n",
       "  </tbody>\n",
       "</table>\n",
       "</div>"
      ],
      "text/plain": [
       "          city       أدبي  علمي رياضة  علمي علوم  total_mean\n",
       "0        اسوان  55.119761   57.949338  58.798358   57.289152\n",
       "1        اسيوط  54.740793   57.703721  59.630377   57.358297\n",
       "2  الإسماعيلية  62.245656   72.467673  67.650618   67.454649\n",
       "3   الاسكندرية  60.984521   65.368450  63.949668   63.434213\n",
       "4       الاقصر  55.385677   57.956045  58.980666   57.440796"
      ]
     },
     "execution_count": 4,
     "metadata": {},
     "output_type": "execute_result"
    }
   ],
   "source": [
    "grades_2022.head()"
   ]
  },
  {
   "cell_type": "markdown",
   "id": "d82e9b8f",
   "metadata": {},
   "source": [
    "## Mapping Arabic Data to their English equivalents\n",
    "- Columns Title\n",
    "- Governorates name"
   ]
  },
  {
   "cell_type": "code",
   "execution_count": 5,
   "id": "319bad9a",
   "metadata": {},
   "outputs": [],
   "source": [
    "grades_2023.columns = ['Governorate', 'Literature_2023', 'Math_2023', \"Science_2023\",\"total_mean_2023\"]\n",
    "grades_2022.columns = ['Governorate', 'Literature_2022', 'Math_2022', \"Science_2022\",\"total_mean_2022\"]"
   ]
  },
  {
   "cell_type": "code",
   "execution_count": 6,
   "id": "1f22e026",
   "metadata": {},
   "outputs": [],
   "source": [
    "governorates_in_english = {\n",
    "    \"القاهرة\": \"Cairo\",\n",
    "    \"الجيزة\": \"Giza\",\n",
    "    \"القليوبية\": \"Qalyubia\",\n",
    "    \"اسيوط\": \"Asyut\",\n",
    "    \"الوادي الجديد\": \"New Valley\",\n",
    "    \"السويس\": \"Suez\",\n",
    "    \"الإسماعيلية\": \"Ismailia\",\n",
    "    \"الشرقية\": \"Sharqia\",\n",
    "    \"بورسعيد\": \"Port Said\",\n",
    "    \"شمال سيناء\": \"North Sinai\",\n",
    "    \"جنوب سيناء\": \"South Sinai\",\n",
    "    \"البحيرة\": \"Beheira\",\n",
    "    \"الاسكندرية\": \"Alexandria\",\n",
    "    \"مطروح\": \"Matruh\",\n",
    "    \"الفيوم\": \"Fayoum\",\n",
    "    \"بني سويف\": \"Beni Suef\",\n",
    "    \"المنيا\": \"Minya\",\n",
    "    \"اسوان\": \"Aswan\",\n",
    "    \"الاقصر\": \"Luxor\",\n",
    "    \"سوهاج\": \"Sohag\",\n",
    "    \"قنا\": \"Qena\",\n",
    "    \"البحر الأحمر\": \"Red Sea\",\n",
    "    \"الغربية\": \"Gharbia\",\n",
    "    \"المنوفية\": \"Menoufia\",\n",
    "    \"كفر الشيخ\": \"Kafr ElSheikh\",\n",
    "    \"الدقهلية\": \"Dakahlia\",\n",
    "    \"دمياط\": \"Damietta\"\n",
    "}\n",
    "\n",
    "grades_2023['Governorate'] = grades_2023['Governorate'].replace(governorates_in_english)\n",
    "grades_2022['Governorate'] = grades_2022['Governorate'].replace(governorates_in_english)"
   ]
  },
  {
   "cell_type": "markdown",
   "id": "4ef0a8ef",
   "metadata": {},
   "source": [
    "## Merging 2022 and 2023 grades in a dataframe"
   ]
  },
  {
   "cell_type": "code",
   "execution_count": 7,
   "id": "36946099",
   "metadata": {},
   "outputs": [],
   "source": [
    "grades = pd.merge(grades_2022, grades_2023,on =\"Governorate\")"
   ]
  },
  {
   "cell_type": "code",
   "execution_count": 8,
   "id": "3760fec2",
   "metadata": {},
   "outputs": [
    {
     "name": "stdout",
     "output_type": "stream",
     "text": [
      "<class 'pandas.core.frame.DataFrame'>\n",
      "RangeIndex: 27 entries, 0 to 26\n",
      "Data columns (total 9 columns):\n",
      " #   Column           Non-Null Count  Dtype  \n",
      "---  ------           --------------  -----  \n",
      " 0   Governorate      27 non-null     object \n",
      " 1   Literature_2022  27 non-null     float64\n",
      " 2   Math_2022        27 non-null     float64\n",
      " 3   Science_2022     27 non-null     float64\n",
      " 4   total_mean_2022  27 non-null     float64\n",
      " 5   Literature_2023  27 non-null     float64\n",
      " 6   Math_2023        27 non-null     float64\n",
      " 7   Science_2023     27 non-null     float64\n",
      " 8   total_mean_2023  27 non-null     float64\n",
      "dtypes: float64(8), object(1)\n",
      "memory usage: 2.0+ KB\n"
     ]
    }
   ],
   "source": [
    "grades.info()"
   ]
  },
  {
   "cell_type": "code",
   "execution_count": 9,
   "id": "80c145f2",
   "metadata": {},
   "outputs": [
    {
     "data": {
      "text/plain": [
       "Governorate        0\n",
       "Literature_2022    0\n",
       "Math_2022          0\n",
       "Science_2022       0\n",
       "total_mean_2022    0\n",
       "Literature_2023    0\n",
       "Math_2023          0\n",
       "Science_2023       0\n",
       "total_mean_2023    0\n",
       "dtype: int64"
      ]
     },
     "execution_count": 9,
     "metadata": {},
     "output_type": "execute_result"
    }
   ],
   "source": [
    "grades.isnull().sum()"
   ]
  },
  {
   "cell_type": "markdown",
   "id": "ebc90f4d",
   "metadata": {},
   "source": [
    "## Saving data in \"Cleaned Data\" folder"
   ]
  },
  {
   "cell_type": "code",
   "execution_count": 10,
   "id": "089c5ba0",
   "metadata": {},
   "outputs": [],
   "source": [
    "grades.to_csv(\"D:\\Data Analysis\\Cleaned Data\\grades.csv\",index = False)"
   ]
  },
  {
   "cell_type": "code",
   "execution_count": null,
   "id": "3a8e45bd",
   "metadata": {},
   "outputs": [],
   "source": []
  }
 ],
 "metadata": {
  "kernelspec": {
   "display_name": "Python 3 (ipykernel)",
   "language": "python",
   "name": "python3"
  },
  "language_info": {
   "codemirror_mode": {
    "name": "ipython",
    "version": 3
   },
   "file_extension": ".py",
   "mimetype": "text/x-python",
   "name": "python",
   "nbconvert_exporter": "python",
   "pygments_lexer": "ipython3",
   "version": "3.11.5"
  }
 },
 "nbformat": 4,
 "nbformat_minor": 5
}
